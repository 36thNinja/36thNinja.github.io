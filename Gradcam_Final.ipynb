{
  "nbformat": 4,
  "nbformat_minor": 0,
  "metadata": {
    "colab": {
      "name": "Gradcam Final.ipynb",
      "provenance": [],
      "authorship_tag": "ABX9TyN1OPR+h3iCTe1PettL5kQ5",
      "include_colab_link": true
    },
    "kernelspec": {
      "name": "python3",
      "display_name": "Python 3"
    }
  },
  "cells": [
    {
      "cell_type": "markdown",
      "metadata": {
        "id": "view-in-github",
        "colab_type": "text"
      },
      "source": [
        "<a href=\"https://colab.research.google.com/github/36thNinja/36thNinja.github.io/blob/master/Gradcam_Final.ipynb\" target=\"_parent\"><img src=\"https://colab.research.google.com/assets/colab-badge.svg\" alt=\"Open In Colab\"/></a>"
      ]
    },
    {
      "cell_type": "code",
      "metadata": {
        "id": "1dczoJrivoP3",
        "colab_type": "code",
        "colab": {}
      },
      "source": [
        "import numpy as np\n",
        "import tensorflow as tf\n",
        "from PIL import Image\n",
        "from matplotlib import cm\n",
        "import matplotlib.pyplot as plt"
      ],
      "execution_count": 1,
      "outputs": []
    },
    {
      "cell_type": "code",
      "metadata": {
        "id": "JuDL0FTTvwVF",
        "colab_type": "code",
        "colab": {}
      },
      "source": [
        "class GradCAM:\n",
        "  def explain(self,IMAGE_PATH,model,CLASS_INDEX,layer_name=None,use_guided_grads=True):\n",
        "\n",
        "    model_input_image_dim = model.layers[0].output_shape[0][1:3]\n",
        "\n",
        "    if layer_name is None:\n",
        "      for layer in model.layers:\n",
        "        if \"conv\" in layer.name:\n",
        "          layer_name = layer.name\n",
        "\n",
        "    if layer_name is None:\n",
        "      raise ValueError(\"No Convolution layer found to perform interpretation\")\n",
        "\n",
        "    img = tf.keras.preprocessing.image.load_img(IMAGE_PATH, target_size=model_input_image_dim)\n",
        "    img = tf.keras.preprocessing.image.img_to_array(img)\n",
        "\n",
        "    grad_model = tf.keras.models.Model([model.inputs], [model.get_layer(layer_name).output, model.output])\n",
        "\n",
        "    with tf.GradientTape() as tape:\n",
        "      conv_outputs, predictions = grad_model(np.array([img]))\n",
        "      loss = predictions[:, CLASS_INDEX]\n",
        "\n",
        "    output = conv_outputs[0]\n",
        "    grads = tape.gradient(loss, conv_outputs)[0]\n",
        "\n",
        "    #Design choice to use guided back prop instead of deconvolution\n",
        "    guided_grads = grads\n",
        "\n",
        "    weights = tf.reduce_mean(guided_grads, axis=(0, 1))\n",
        "\n",
        "    cam = np.ones(output.shape[0: 2], dtype = np.float32)\n",
        "\n",
        "    for i, w in enumerate(weights):\n",
        "      cam += w * output[:, :, i]\n",
        "\n",
        "    cam = cam.numpy()\n",
        "    scaledResult = (cam - cam.min()) / (cam.max() - cam.min())\n",
        "    im = Image.fromarray(np.uint8(scaledResult*255))\n",
        "    im = im.resize((224,224),Image.BICUBIC)\n",
        "    result = np.asarray(im)\n",
        "\n",
        "    cmap = plt.get_cmap('jet')\n",
        "    rgba_img = cmap(result)\n",
        "    rgb_img = np.delete(rgba_img, 3, 2)\n",
        "    \n",
        "    \n",
        "\n",
        "    #result = np.resize(cam.numpy(), model_input_image_dim)\n",
        "    #result = np.maximum(result, 0)\n",
        "\n",
        "    #scaledResult = (result - result.min()) / (result.max() - result.min())\n",
        "\n",
        "    #return scaledResult\n",
        "\n"
      ],
      "execution_count": 2,
      "outputs": []
    },
    {
      "cell_type": "code",
      "metadata": {
        "id": "tLbPSqZe8Mg9",
        "colab_type": "code",
        "colab": {}
      },
      "source": [
        "model = tf.keras.applications.vgg16.VGG16(weights='imagenet', include_top=True)"
      ],
      "execution_count": 3,
      "outputs": []
    },
    {
      "cell_type": "code",
      "metadata": {
        "id": "ZpdJSo3W8VnK",
        "colab_type": "code",
        "colab": {}
      },
      "source": [
        "IMAGE_PATH = 'cat.jpg'\n",
        "#LAYER_NAME = 'block5_conv3'\n",
        "CAT_CLASS_INDEX = 281"
      ],
      "execution_count": 4,
      "outputs": []
    },
    {
      "cell_type": "code",
      "metadata": {
        "id": "M_UqXyEr8c3c",
        "colab_type": "code",
        "colab": {
          "base_uri": "https://localhost:8080/",
          "height": 222
        },
        "outputId": "def81a1b-4794-4772-bf74-904992c54873"
      },
      "source": [
        "!wget https://upload.wikimedia.org/wikipedia/commons/1/1a/Arthur%2C_the_cat.jpg \n",
        "!mv Arthur,_the_cat.jpg cat.jpg"
      ],
      "execution_count": 5,
      "outputs": [
        {
          "output_type": "stream",
          "text": [
            "--2020-09-14 20:40:24--  https://upload.wikimedia.org/wikipedia/commons/1/1a/Arthur%2C_the_cat.jpg\n",
            "Resolving upload.wikimedia.org (upload.wikimedia.org)... 208.80.153.240, 2620:0:860:ed1a::2:b\n",
            "Connecting to upload.wikimedia.org (upload.wikimedia.org)|208.80.153.240|:443... connected.\n",
            "HTTP request sent, awaiting response... 200 OK\n",
            "Length: 2636769 (2.5M) [image/jpeg]\n",
            "Saving to: ‘Arthur,_the_cat.jpg’\n",
            "\n",
            "Arthur,_the_cat.jpg 100%[===================>]   2.51M  8.64MB/s    in 0.3s    \n",
            "\n",
            "2020-09-14 20:40:24 (8.64 MB/s) - ‘Arthur,_the_cat.jpg’ saved [2636769/2636769]\n",
            "\n"
          ],
          "name": "stdout"
        }
      ]
    },
    {
      "cell_type": "code",
      "metadata": {
        "id": "Xs7rI1x1858k",
        "colab_type": "code",
        "colab": {}
      },
      "source": [
        "explainer = GradCAM()"
      ],
      "execution_count": 6,
      "outputs": []
    },
    {
      "cell_type": "code",
      "metadata": {
        "id": "v1_zMWwS8dfz",
        "colab_type": "code",
        "colab": {}
      },
      "source": [
        "result = explainer.explain(IMAGE_PATH,model,CAT_CLASS_INDEX)"
      ],
      "execution_count": 7,
      "outputs": []
    },
    {
      "cell_type": "code",
      "metadata": {
        "id": "ncH5m3eD9Y2O",
        "colab_type": "code",
        "colab": {
          "base_uri": "https://localhost:8080/",
          "height": 34
        },
        "outputId": "d326c5d1-06cc-4ab8-ddcd-7487c02a3a87"
      },
      "source": [
        "type(result)"
      ],
      "execution_count": 8,
      "outputs": [
        {
          "output_type": "execute_result",
          "data": {
            "text/plain": [
              "numpy.ndarray"
            ]
          },
          "metadata": {
            "tags": []
          },
          "execution_count": 8
        }
      ]
    },
    {
      "cell_type": "code",
      "metadata": {
        "id": "OkrV6hc1-5rg",
        "colab_type": "code",
        "colab": {}
      },
      "source": [
        "img = tf.keras.preprocessing.image.load_img(IMAGE_PATH, target_size=(224,224))\n",
        "img = tf.keras.preprocessing.image.img_to_array(img)"
      ],
      "execution_count": 9,
      "outputs": []
    },
    {
      "cell_type": "code",
      "metadata": {
        "id": "pan2fjxfIKFd",
        "colab_type": "code",
        "colab": {
          "base_uri": "https://localhost:8080/",
          "height": 34
        },
        "outputId": "d0b0e4b5-85b9-4c29-9866-bf7d50f97198"
      },
      "source": [
        "type(img)"
      ],
      "execution_count": 10,
      "outputs": [
        {
          "output_type": "execute_result",
          "data": {
            "text/plain": [
              "numpy.ndarray"
            ]
          },
          "metadata": {
            "tags": []
          },
          "execution_count": 10
        }
      ]
    },
    {
      "cell_type": "code",
      "metadata": {
        "id": "Mhn3O_fzKgbu",
        "colab_type": "code",
        "colab": {}
      },
      "source": [
        "import matplotlib.pyplot as plt\n",
        "\n",
        "\n",
        "cmap = plt.get_cmap('jet')\n",
        "\n",
        "rgba_img = cmap(result)\n",
        "rgb_img = np.delete(rgba_img, 3, 2)"
      ],
      "execution_count": 11,
      "outputs": []
    },
    {
      "cell_type": "code",
      "metadata": {
        "id": "s1P5n6RvFxu1",
        "colab_type": "code",
        "colab": {
          "base_uri": "https://localhost:8080/",
          "height": 286
        },
        "outputId": "1be33b9e-7d48-4ad7-d724-a7bff91dddbb"
      },
      "source": [
        "plt.imshow(rgb_img)"
      ],
      "execution_count": 13,
      "outputs": [
        {
          "output_type": "execute_result",
          "data": {
            "text/plain": [
              "<matplotlib.image.AxesImage at 0x7f22f6810668>"
            ]
          },
          "metadata": {
            "tags": []
          },
          "execution_count": 13
        },
        {
          "output_type": "display_data",
          "data": {
            "image/png": "[encoded data removed]",
            "text/plain": [
              "<Figure size 432x288 with 1 Axes>"
            ]
          },
          "metadata": {
            "tags": [],
            "needs_background": "light"
          }
        }
      ]
    },
    {
      "cell_type": "code",
      "metadata": {
        "id": "y4sqFx_3Wenu",
        "colab_type": "code",
        "colab": {
          "base_uri": "https://localhost:8080/",
          "height": 34
        },
        "outputId": "c8035dc9-ff0e-448b-a481-953a73d53b2c"
      },
      "source": [
        "np.asarray(rgb_img).shape"
      ],
      "execution_count": 14,
      "outputs": [
        {
          "output_type": "execute_result",
          "data": {
            "text/plain": [
              "(224, 224, 3)"
            ]
          },
          "metadata": {
            "tags": []
          },
          "execution_count": 14
        }
      ]
    },
    {
      "cell_type": "code",
      "metadata": {
        "id": "zqM-hTUNMgD4",
        "colab_type": "code",
        "colab": {
          "base_uri": "https://localhost:8080/",
          "height": 34
        },
        "outputId": "87f32194-ed81-43fc-9bc5-ab3412a96b66"
      },
      "source": [
        "import cv2\n",
        "\n",
        "cam = cv2.resize(result.numpy(), (224, 224))\n",
        "cam = np.maximum(cam, 0)\n",
        "heatmap = (cam - cam.min()) / (cam.max() - cam.min())\n",
        "cam = cv2.applyColorMap(np.uint8(255*cam), cv2.COLORMAP_JET)\n",
        "\n",
        "output_image = cv2.addWeighted(cv2.cvtColor(img.astype('uint8'), cv2.COLOR_RGB2BGR), 0.5, cam, 1, 0)\n",
        "\n",
        "cv2.imwrite('cam2.png', output_image)"
      ],
      "execution_count": 23,
      "outputs": [
        {
          "output_type": "execute_result",
          "data": {
            "text/plain": [
              "True"
            ]
          },
          "metadata": {
            "tags": []
          },
          "execution_count": 23
        }
      ]
    },
    {
      "cell_type": "code",
      "metadata": {
        "id": "273N4X1FN05L",
        "colab_type": "code",
        "colab": {
          "base_uri": "https://localhost:8080/",
          "height": 34
        },
        "outputId": "8625d74f-f646-4c37-a945-034a8e05300b"
      },
      "source": [
        "img.shape"
      ],
      "execution_count": 13,
      "outputs": [
        {
          "output_type": "execute_result",
          "data": {
            "text/plain": [
              "(224, 224, 3)"
            ]
          },
          "metadata": {
            "tags": []
          },
          "execution_count": 13
        }
      ]
    },
    {
      "cell_type": "code",
      "metadata": {
        "id": "pE4cq98SN4D3",
        "colab_type": "code",
        "colab": {}
      },
      "source": [
        "from PIL import Image\n",
        "from matplotlib import cm\n",
        "import matplotlib.pyplot as plt\n",
        "#result = result.numpy()\n",
        "scaledResult = (result - result.min()) / (result.max() - result.min())\n",
        "#im = Image.fromarray(np.uint8(cm.gist_earth(scaledResult)*255))\n",
        "im = Image.fromarray(np.uint8(scaledResult*255))"
      ],
      "execution_count": 34,
      "outputs": []
    },
    {
      "cell_type": "code",
      "metadata": {
        "id": "4whDg3buRXzO",
        "colab_type": "code",
        "colab": {
          "base_uri": "https://localhost:8080/",
          "height": 282
        },
        "outputId": "3587ee68-085f-4b0b-bf25-a8c2890887c3"
      },
      "source": [
        "plt.imshow(im)"
      ],
      "execution_count": 35,
      "outputs": [
        {
          "output_type": "execute_result",
          "data": {
            "text/plain": [
              "<matplotlib.image.AxesImage at 0x7fa14cec2518>"
            ]
          },
          "metadata": {
            "tags": []
          },
          "execution_count": 35
        },
        {
          "output_type": "display_data",
          "data": {
            "image/png": "[encoded data removed]",
            "text/plain": [
              "<Figure size 432x288 with 1 Axes>"
            ]
          },
          "metadata": {
            "tags": [],
            "needs_background": "light"
          }
        }
      ]
    },
    {
      "cell_type": "code",
      "metadata": {
        "id": "dnnOhno5SHcp",
        "colab_type": "code",
        "colab": {}
      },
      "source": [
        "im = im.resize((224,224),Image.BICUBIC)"
      ],
      "execution_count": 37,
      "outputs": []
    },
    {
      "cell_type": "code",
      "metadata": {
        "id": "_M3KTluhSQV2",
        "colab_type": "code",
        "colab": {
          "base_uri": "https://localhost:8080/",
          "height": 34
        },
        "outputId": "fe2a194e-fd22-4ef9-cbee-f7e8ba526c4e"
      },
      "source": [
        "np.asarray(im).shape"
      ],
      "execution_count": 38,
      "outputs": [
        {
          "output_type": "execute_result",
          "data": {
            "text/plain": [
              "(224, 224)"
            ]
          },
          "metadata": {
            "tags": []
          },
          "execution_count": 38
        }
      ]
    },
    {
      "cell_type": "code",
      "metadata": {
        "id": "Q1ym7FfNS0b5",
        "colab_type": "code",
        "colab": {}
      },
      "source": [
        "im = np.delete(im, 3, 2)"
      ],
      "execution_count": 36,
      "outputs": []
    },
    {
      "cell_type": "code",
      "metadata": {
        "id": "B0e80b9GS3GC",
        "colab_type": "code",
        "colab": {
          "base_uri": "https://localhost:8080/",
          "height": 34
        },
        "outputId": "3105549a-529f-4821-d344-6a6e139dab49"
      },
      "source": [
        "np.asarray(im).shape"
      ],
      "execution_count": 40,
      "outputs": [
        {
          "output_type": "execute_result",
          "data": {
            "text/plain": [
              "(224, 224)"
            ]
          },
          "metadata": {
            "tags": []
          },
          "execution_count": 40
        }
      ]
    },
    {
      "cell_type": "code",
      "metadata": {
        "id": "QDrzyOqXS4b_",
        "colab_type": "code",
        "colab": {
          "base_uri": "https://localhost:8080/",
          "height": 286
        },
        "outputId": "091bb68b-f168-4a7f-d7fb-7c3928b8e1b7"
      },
      "source": [
        "plt.imshow(im)"
      ],
      "execution_count": 39,
      "outputs": [
        {
          "output_type": "execute_result",
          "data": {
            "text/plain": [
              "<matplotlib.image.AxesImage at 0x7fa14ce252e8>"
            ]
          },
          "metadata": {
            "tags": []
          },
          "execution_count": 39
        },
        {
          "output_type": "display_data",
          "data": {
            "image/png": "[encoded data removed]",
            "text/plain": [
              "<Figure size 432x288 with 1 Axes>"
            ]
          },
          "metadata": {
            "tags": [],
            "needs_background": "light"
          }
        }
      ]
    }
  ]
}